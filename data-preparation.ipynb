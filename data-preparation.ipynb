{
 "cells": [
  {
   "cell_type": "code",
   "execution_count": 1,
   "id": "99628cb5-210a-4e61-8c34-a58428c6f47e",
   "metadata": {},
   "outputs": [],
   "source": [
    "from datasets import load_dataset\n",
    "from datasets import DatasetDict"
   ]
  },
  {
   "cell_type": "code",
   "execution_count": 2,
   "id": "8fd01f9d-5be4-4254-8ee7-f81f779ae2d5",
   "metadata": {},
   "outputs": [
    {
     "data": {
      "text/plain": [
       "DatasetDict({\n",
       "    train: Dataset({\n",
       "        features: ['audio', 'text', 'language'],\n",
       "        num_rows: 8000\n",
       "    })\n",
       "})"
      ]
     },
     "execution_count": 2,
     "metadata": {},
     "output_type": "execute_result"
    }
   ],
   "source": [
    "dataset = load_dataset(\"../data/springlab-asr-task-data/\")\n",
    "\n",
    "dataset"
   ]
  },
  {
   "cell_type": "code",
   "execution_count": 3,
   "id": "df3076ea-a6dc-46b8-ae2a-b2783f6df0f6",
   "metadata": {},
   "outputs": [
    {
     "data": {
      "text/plain": [
       "{'audio': {'path': None,\n",
       "  'array': array([0.13391113, 0.118927  , 0.10662842, ..., 0.14904785, 0.14758301,\n",
       "         0.14038086], shape=(79360,)),\n",
       "  'sampling_rate': 16000},\n",
       " 'text': 'block which lets get this one running so the simple part is just go over there and then',\n",
       " 'language': 'en-IN'}"
      ]
     },
     "execution_count": 3,
     "metadata": {},
     "output_type": "execute_result"
    }
   ],
   "source": [
    "dataset[\"train\"][0]"
   ]
  },
  {
   "cell_type": "code",
   "execution_count": 4,
   "id": "1656f315-7e87-4cc1-824c-beea567b90fb",
   "metadata": {},
   "outputs": [
    {
     "data": {
      "text/plain": [
       "DatasetDict({\n",
       "    train: Dataset({\n",
       "        features: ['audio', 'text', 'language'],\n",
       "        num_rows: 6400\n",
       "    })\n",
       "    validation: Dataset({\n",
       "        features: ['audio', 'text', 'language'],\n",
       "        num_rows: 800\n",
       "    })\n",
       "    test: Dataset({\n",
       "        features: ['audio', 'text', 'language'],\n",
       "        num_rows: 800\n",
       "    })\n",
       "})"
      ]
     },
     "execution_count": 4,
     "metadata": {},
     "output_type": "execute_result"
    }
   ],
   "source": [
    "full_dataset = dataset[\"train\"]\n",
    "\n",
    "# Step 1: Split into train (80%) and temp (20%)\n",
    "split_dataset = full_dataset.train_test_split(test_size=0.2, seed=42)\n",
    "train_dataset = split_dataset['train']\n",
    "temp_dataset = split_dataset['test']\n",
    "\n",
    "# Step 2: Split temp (20%) into validation (10%) and test (10%)\n",
    "val_test_split = temp_dataset.train_test_split(test_size=0.5, seed=42)\n",
    "val_dataset = val_test_split['train']\n",
    "test_dataset = val_test_split['test']\n",
    "\n",
    "new_dataset_dict = DatasetDict({'train': train_dataset,\n",
    "                                'validation': val_dataset,\n",
    "                                'test': test_dataset})\n",
    "\n",
    "new_dataset_dict"
   ]
  },
  {
   "cell_type": "code",
   "execution_count": 5,
   "id": "a096f418-c27d-434b-a16f-43a5c87a569c",
   "metadata": {},
   "outputs": [
    {
     "data": {
      "text/plain": [
       "{'audio': {'path': None,\n",
       "  'array': array([0.0005188 , 0.00186157, 0.0015564 , ..., 0.        , 0.00119019,\n",
       "         0.00021362], shape=(109120,)),\n",
       "  'sampling_rate': 16000},\n",
       " 'text': 'the players have spoken up for the captain through a letter sent to the sports governing body in the country',\n",
       " 'language': 'en-IN'}"
      ]
     },
     "execution_count": 5,
     "metadata": {},
     "output_type": "execute_result"
    }
   ],
   "source": [
    "new_dataset_dict[\"train\"][0]"
   ]
  },
  {
   "cell_type": "code",
   "execution_count": 6,
   "id": "2922299c-72ed-4a97-8748-6e9cf1d6e961",
   "metadata": {},
   "outputs": [],
   "source": [
    "import os\n",
    "import json\n",
    "import numpy as np\n",
    "import soundfile as sf\n",
    "from datasets import Dataset  # Optional for type hinting"
   ]
  },
  {
   "cell_type": "code",
   "execution_count": 7,
   "id": "11cb6a3f-cf4a-433e-9807-39da7fd8907e",
   "metadata": {},
   "outputs": [],
   "source": [
    "def create_manifest_from_split(dataset_split: Dataset, split_name: str, output_dir: str = \"../data/springlab-asr-task-wavs\") -> str:\n",
    "    \"\"\"\n",
    "    Creates a manifest file for a dataset split.\n",
    "\n",
    "    Args:\n",
    "        dataset_split (Dataset): HuggingFace Dataset split (e.g. train/validation/test).\n",
    "        split_name (str): Name of the split.\n",
    "        output_dir (str): Directory to store audio files and manifest.\n",
    "\n",
    "    Returns:\n",
    "        str: Path to the generated manifest file.\n",
    "    \"\"\"\n",
    "    os.makedirs(output_dir, exist_ok=True)\n",
    "    manifest_path = os.path.join(output_dir, f\"{split_name}_manifest.json\")\n",
    "\n",
    "    with open(manifest_path, \"w\", encoding=\"utf-8\") as fout:\n",
    "        for i, item in enumerate(dataset_split):\n",
    "            if not item.get('audio') or not item.get('text'):\n",
    "                continue\n",
    "\n",
    "            try:\n",
    "                audio_array = item['audio']['array']\n",
    "                sr = item['audio']['sampling_rate']\n",
    "\n",
    "                # Normalize audio to [-1, 1], then convert to int16\n",
    "                if np.max(np.abs(audio_array)) != 0:\n",
    "                    audio_array = audio_array / np.max(np.abs(audio_array))\n",
    "                audio_array = (audio_array * 32767).astype(np.int16)\n",
    "\n",
    "                # Save audio to WAV file\n",
    "                audio_path = os.path.join(output_dir, f\"{split_name}_audio_{i}.wav\")\n",
    "                sf.write(audio_path, audio_array, sr, format='WAV', subtype='PCM_16')\n",
    "\n",
    "                # Create manifest entry\n",
    "                duration = len(audio_array) / sr\n",
    "                manifest_entry = {\n",
    "                    \"audio_filepath\": os.path.abspath(audio_path),\n",
    "                    \"duration\": duration,\n",
    "                    \"text\": item[\"text\"].strip().lower()\n",
    "                }\n",
    "\n",
    "                # Write to file with readable Unicode\n",
    "                fout.write(json.dumps(manifest_entry, ensure_ascii=False) + \"\\n\")\n",
    "\n",
    "            except Exception as e:\n",
    "                print(f\"Skipping {split_name}_audio_{i}: {e}\")\n",
    "\n",
    "    return manifest_path"
   ]
  },
  {
   "cell_type": "code",
   "execution_count": 8,
   "id": "81cb2cd5-f7fa-4bde-b534-ae72b23db97b",
   "metadata": {},
   "outputs": [],
   "source": [
    "train_manifest = create_manifest_from_split(new_dataset_dict[\"train\"], \"train\")\n",
    "validation_manifest = create_manifest_from_split(new_dataset_dict[\"validation\"], \"validation\")\n",
    "test_manifest = create_manifest_from_split(new_dataset_dict[\"test\"], \"test\")"
   ]
  },
  {
   "cell_type": "code",
   "execution_count": 9,
   "id": "b54baac8-4c8b-48c4-9100-3b71056056eb",
   "metadata": {},
   "outputs": [
    {
     "name": "stdout",
     "output_type": "stream",
     "text": [
      "../data/springlab-asr-task-wavs/train_manifest.json\n",
      "../data/springlab-asr-task-wavs/validation_manifest.json\n",
      "../data/springlab-asr-task-wavs/test_manifest.json\n"
     ]
    }
   ],
   "source": [
    "print(train_manifest)\n",
    "\n",
    "print(validation_manifest)\n",
    "\n",
    "print(test_manifest)"
   ]
  }
 ],
 "metadata": {
  "kernelspec": {
   "display_name": "Python 3 (ipykernel)",
   "language": "python",
   "name": "python3"
  },
  "language_info": {
   "codemirror_mode": {
    "name": "ipython",
    "version": 3
   },
   "file_extension": ".py",
   "mimetype": "text/x-python",
   "name": "python",
   "nbconvert_exporter": "python",
   "pygments_lexer": "ipython3",
   "version": "3.13.4"
  }
 },
 "nbformat": 4,
 "nbformat_minor": 5
}
