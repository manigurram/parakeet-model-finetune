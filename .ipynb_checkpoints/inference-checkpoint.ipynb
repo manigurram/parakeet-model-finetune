{
 "cells": [
  {
   "cell_type": "code",
   "execution_count": 1,
   "id": "7a870983-bd44-4c06-bc1f-f413719002c1",
   "metadata": {
    "scrolled": true
   },
   "outputs": [],
   "source": [
    "import nemo.collections.asr as nemo_asr\n",
    "import os\n",
    "import json\n",
    "from tqdm import tqdm\n",
    "\n",
    "fine_tuned_model = \"./model/parakeet-spring-lab-asr-task-wavs-finetuned-model/parakeet_finetuned.nemo\"\n",
    "\n",
    "asr_model = nemo_asr.models.ASRModel.restore_from(restore_path=fine_tuned_model)"
   ]
  },
  {
   "cell_type": "markdown",
   "id": "77baf84f-aff1-4aac-a9c8-32e1e2b65c10",
   "metadata": {},
   "source": [
    "### Single Audio file"
   ]
  },
  {
   "cell_type": "code",
   "execution_count": 2,
   "id": "ebfe0fc3-3cb2-46d3-b84e-a6fc59fb36f0",
   "metadata": {},
   "outputs": [
    {
     "name": "stderr",
     "output_type": "stream",
     "text": [
      "Transcribing: 100%|█████████████████████████████████████████████████████████████████████████████████████████████████████████████| 1/1 [00:02<00:00,  2.22s/it]"
     ]
    },
    {
     "name": "stdout",
     "output_type": "stream",
     "text": [
      "well i dont wish to see it any more observed pebe turning away her eyes it is certainly very like the old portrait\n"
     ]
    },
    {
     "name": "stderr",
     "output_type": "stream",
     "text": [
      "\n"
     ]
    }
   ],
   "source": [
    "audio_file_path = \"../data/2086-149220-0033.wav\"\n",
    "\n",
    "output = asr_model.transcribe([audio_file_path])\n",
    "print(output[0].text)"
   ]
  },
  {
   "cell_type": "markdown",
   "id": "46db7f23-fc3c-4263-b36f-2a4ac19b771d",
   "metadata": {},
   "source": [
    "### Multiple Files "
   ]
  },
  {
   "cell_type": "code",
   "execution_count": 3,
   "id": "2bfe1137-21ae-4e85-881e-12af78a95ef5",
   "metadata": {},
   "outputs": [],
   "source": [
    "import json\n",
    "\n",
    "with open(\"../data/springlab-asr-task-wavs/test_manifest.json\") as f:\n",
    "    for line in f:\n",
    "        data = json.loads(line)\n",
    "        break"
   ]
  },
  {
   "cell_type": "code",
   "execution_count": 4,
   "id": "6a713cff-dd6c-4a3d-89e4-4f0ff9135010",
   "metadata": {},
   "outputs": [
    {
     "data": {
      "text/plain": [
       "{'audio_filepath': '/app/data/springlab-asr-task-wavs/test_audio_0.wav',\n",
       " 'duration': 6.41,\n",
       " 'text': 'systems spectral technology enables the development of new mobile applications'}"
      ]
     },
     "execution_count": 4,
     "metadata": {},
     "output_type": "execute_result"
    }
   ],
   "source": [
    "data"
   ]
  },
  {
   "cell_type": "code",
   "execution_count": 1,
   "id": "a9f0827c-559a-47ae-ba5d-bf43b2194dad",
   "metadata": {},
   "outputs": [],
   "source": [
    "import os\n",
    "import json\n",
    "import nemo.collections.asr as nemo_asr\n",
    "from tqdm import tqdm\n",
    "\n",
    "def load_test_manifest(manifest_path):\n",
    "    \"\"\"Load test manifest and return list of samples\"\"\"\n",
    "    samples = []\n",
    "    \n",
    "    print(f\"Loading test manifest from: {manifest_path}\")\n",
    "    \n",
    "    with open(manifest_path, 'r', encoding='utf-8') as f:\n",
    "        for line in f:\n",
    "            line = line.strip()\n",
    "            if line:  # Skip empty lines\n",
    "                try:\n",
    "                    sample = json.loads(line)\n",
    "                    samples.append(sample)\n",
    "                except json.JSONDecodeError as e:\n",
    "                    print(f\"Error parsing line: {line}\")\n",
    "                    print(f\"Error: {e}\")\n",
    "    \n",
    "    print(f\"Loaded {len(samples)} samples from manifest\")\n",
    "    return samples\n",
    "\n",
    "def inference_with_manifest(model_path, manifest_path):\n",
    "    \"\"\"Inference using test manifest with ground truth comparison\"\"\"\n",
    "    \n",
    "    print(f\"Loading fine-tuned model from: {model_path}\")\n",
    "    asr_model = nemo_asr.models.ASRModel.restore_from(restore_path=model_path)\n",
    "    print(\"Model loaded successfully!\")\n",
    "    \n",
    "\n",
    "    test_samples = load_test_manifest(manifest_path)\n",
    "    \n",
    "    results = []\n",
    "    \n",
    "    # Process each sample from manifest\n",
    "    print(\"Starting inference with ground truth comparison...\")\n",
    "    \n",
    "    for sample in tqdm(test_samples, desc=\"Processing test samples\"):\n",
    "        # Extract information from manifest\n",
    "        audio_filepath = sample.get('audio_filepath', '')\n",
    "        original_text = sample.get('text', '')\n",
    "        duration = sample.get('duration', 0)\n",
    "        \n",
    "        # Get filename for reference\n",
    "        filename = os.path.basename(audio_filepath)\n",
    "\n",
    "        output = asr_model.transcribe([audio_filepath])\n",
    "        predicted_text = output[0].text\n",
    "        \n",
    "        \n",
    "        # Store result with comparison\n",
    "        result = {\n",
    "            \"filename\": filename,\n",
    "            \"audio_filepath\": audio_filepath,\n",
    "            \"original_text\": original_text,\n",
    "            \"predicted_text\": predicted_text,\n",
    "            \"duration\": duration\n",
    "        }\n",
    "        results.append(result)\n",
    "    \n",
    "    return results"
   ]
  },
  {
   "cell_type": "code",
   "execution_count": 2,
   "id": "698db4e9-2122-4bbf-831c-f77ba78bd39f",
   "metadata": {
    "scrolled": true
   },
   "outputs": [],
   "source": [
    "fine_tuned_model = \"./model/parakeet-spring-lab-asr-task-wavs-finetuned-model/parakeet_finetuned.nemo\"\n",
    "\n",
    "test_manifest_path = \"../data/springlab-asr-task-wavs/test_manifest.json\"\n",
    "\n",
    "total_results = inference_with_manifest(model_path = model_path, manifest_path = test_manifest_path)"
   ]
  },
  {
   "cell_type": "code",
   "execution_count": 3,
   "id": "1f0fc7c1-a0e8-41cf-a6af-98b5b94a3d3a",
   "metadata": {},
   "outputs": [],
   "source": [
    "# dump into .json file\n",
    "\n",
    "output_dir = \"../data/springlab-asr-task-wavs-test-data-v0.json\"\n",
    "\n",
    "with open(output_dir, 'w', encoding='utf-8') as f:\n",
    "    json.dump(total_results, f, indent=2, ensure_ascii=False)"
   ]
  },
  {
   "cell_type": "code",
   "execution_count": null,
   "id": "44256cf9-b99c-4b3e-acb8-c56a66627f64",
   "metadata": {},
   "outputs": [],
   "source": []
  }
 ],
 "metadata": {
  "kernelspec": {
   "display_name": "Python 3 (ipykernel)",
   "language": "python",
   "name": "python3"
  },
  "language_info": {
   "codemirror_mode": {
    "name": "ipython",
    "version": 3
   },
   "file_extension": ".py",
   "mimetype": "text/x-python",
   "name": "python",
   "nbconvert_exporter": "python",
   "pygments_lexer": "ipython3",
   "version": "3.13.4"
  }
 },
 "nbformat": 4,
 "nbformat_minor": 5
}
